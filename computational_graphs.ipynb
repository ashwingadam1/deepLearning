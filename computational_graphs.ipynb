{
 "cells": [
  {
   "cell_type": "code",
   "execution_count": 1,
   "metadata": {
    "collapsed": true
   },
   "outputs": [],
   "source": [
    "import numpy as np\n",
    "import matplotlib.pyplot as plt"
   ]
  },
  {
   "cell_type": "code",
   "execution_count": 2,
   "metadata": {},
   "outputs": [],
   "source": [
    "class Operations:\n",
    "    def __init__(self, input_nodes=[]):\n",
    "        self.input_nodes=input_nodes\n",
    "        #self.consumers=[]\n",
    "        #for input_node in input_nodes:\n",
    "            #input_node.consumers.append(self)\n",
    "            \n",
    "        _default_graph.operations.append(self)\n",
    "        \n",
    "    def compute(self):\n",
    "        pass"
   ]
  },
  {
   "cell_type": "code",
   "execution_count": 3,
   "metadata": {},
   "outputs": [],
   "source": [
    "class add(Operations):\n",
    "    def __init__(self,x,y):\n",
    "        super().__init__([x,y])\n",
    "    def compute(self,x_value,y_value):\n",
    "        return x_value+y_value"
   ]
  },
  {
   "cell_type": "code",
   "execution_count": 4,
   "metadata": {},
   "outputs": [],
   "source": [
    "class subtract(Operations):\n",
    "    def __init__(self,x,y):\n",
    "        super().__init__([x,y])\n",
    "    def compute(self,x_value,y_value):\n",
    "        return x_value-y_value"
   ]
  },
  {
   "cell_type": "code",
   "execution_count": 5,
   "metadata": {},
   "outputs": [],
   "source": [
    "class matmul(Operations):\n",
    "    def __init__(self,x,y):\n",
    "        super().__init__([x,y])\n",
    "    def compute(self,x_value,y_value):\n",
    "        return x_value.dot(y_value)"
   ]
  },
  {
   "cell_type": "code",
   "execution_count": 6,
   "metadata": {},
   "outputs": [],
   "source": [
    "class Placeholders:\n",
    "    def __init__(self):\n",
    "        self.consumers=[]\n",
    "        _default_graph.placeholders.append(self)"
   ]
  },
  {
   "cell_type": "code",
   "execution_count": 7,
   "metadata": {},
   "outputs": [],
   "source": [
    "class Variables:\n",
    "    def __init__(self,initial_value=None):\n",
    "        self.value = initial_value\n",
    "        self.consumers = []\n",
    "        _default_graph.variables.append(self)"
   ]
  },
  {
   "cell_type": "code",
   "execution_count": 8,
   "metadata": {},
   "outputs": [],
   "source": [
    "class Graph:\n",
    "    def __init__(self):\n",
    "        self.operations = []\n",
    "        self.placeholders = []\n",
    "        self.variables = []\n",
    "\n",
    "    def as_default(self):\n",
    "        global _default_graph\n",
    "        _default_graph = self"
   ]
  },
  {
   "cell_type": "code",
   "execution_count": 9,
   "metadata": {},
   "outputs": [],
   "source": [
    "Graph().as_default()\n",
    "\n",
    "A = Variables([[1, 0], [0, -1]])\n",
    "b = Variables([1, 1])\n",
    "\n",
    "\n",
    "x = Placeholders()\n",
    "\n",
    "y = matmul(A, x)\n",
    "z = add(y, b)"
   ]
  },
  {
   "cell_type": "code",
   "execution_count": 10,
   "metadata": {},
   "outputs": [],
   "source": [
    "class Session:\n",
    "    def run(self, operation, feed_dict={}):\n",
    "        nodes_postorder = traverse_postorder(operation)\n",
    "        for node in nodes_postorder:\n",
    "            if type(node) == Placeholders:\n",
    "                node.output = feed_dict[node]\n",
    "            elif type(node) == Variables:\n",
    "                node.output = node.value\n",
    "            else:  \n",
    "                node.inputs = [input_node.output for input_node in node.input_nodes]\n",
    "                node.output = node.compute(*node.inputs)\n",
    "            if type(node.output) == list:\n",
    "                node.output = np.array(node.output)\n",
    "        return operation.output\n",
    "def traverse_postorder(operation):\n",
    "    nodes_postorder = []\n",
    "    def recurse(node):\n",
    "        if isinstance(node, Operations):\n",
    "            for input_node in node.input_nodes:\n",
    "                recurse(input_node)\n",
    "        nodes_postorder.append(node)\n",
    "    recurse(operation)\n",
    "    return nodes_postorder"
   ]
  },
  {
   "cell_type": "code",
   "execution_count": 11,
   "metadata": {},
   "outputs": [
    {
     "name": "stdout",
     "output_type": "stream",
     "text": [
      "[ 2 -1]\n"
     ]
    }
   ],
   "source": [
    "session = Session()\n",
    "output = session.run(z, {\n",
    "    x: [1, 2]\n",
    "})\n",
    "print(output)"
   ]
  },
  {
   "cell_type": "code",
   "execution_count": 12,
   "metadata": {},
   "outputs": [
    {
     "data": {
      "image/png": "[encoded data removed]",
      "text/plain": [
       "<matplotlib.figure.Figure at 0x7f17bbab86d8>"
      ]
     },
     "metadata": {},
     "output_type": "display_data"
    },
    {
     "data": {
      "image/png": "[encoded data removed]",
      "text/plain": [
       "<matplotlib.figure.Figure at 0x7fdc78aa8c18>"
      ]
     },
     "metadata": {},
     "output_type": "display_data"
    }
   ],
   "source": [
    "red_points=np.random.randn(50,2)-2*np.ones((50,2))\n",
    "blue_points=np.random.randn(50,2)+2*np.ones((50,2))\n",
    "plt.scatter(red_points[:,0],red_points[:,1],color='red')\n",
    "plt.scatter(blue_points[:,0],blue_points[:,1],color='blue')\n",
    "x_axis = np.linspace(-4, 4, 100)\n",
    "y_axis = -x_axis\n",
    "plt.plot(x_axis, y_axis)\n",
    "plt.show()"
   ]
  },
  {
   "cell_type": "code",
   "execution_count": 13,
   "metadata": {},
   "outputs": [
    {
     "data": {
      "image/png": "[encoded data removed]",
      "text/plain": [
       "<matplotlib.figure.Figure at 0x7fdc78a9def0>"
      ]
     },
     "metadata": {},
     "output_type": "display_data"
    }
   ],
   "source": [
    "a=np.arange(-5,5,0.01)\n",
    "s=1/(1+np.exp(-a))\n",
    "plt.plot(a, s)\n",
    "plt.grid(True)\n",
    "plt.show()"
   ]
  },
  {
   "cell_type": "code",
   "execution_count": 14,
   "metadata": {},
   "outputs": [],
   "source": [
    "class Sigmoid(Operations):\n",
    "    def __init__(self,a):\n",
    "        super().__init__([a])\n",
    "    def compute(self,a_value):\n",
    "        return 1/(1+np.exp(-a_value))\n",
    "        "
   ]
  },
  {
   "cell_type": "code",
   "execution_count": 15,
   "metadata": {},
   "outputs": [],
   "source": [
    "Graph().as_default()\n",
    "\n",
    "x = Placeholders()\n",
    "w = Variables([1, 1])\n",
    "b = Variables(0)\n",
    "p = Sigmoid( add(matmul(w, x), b) )"
   ]
  },
  {
   "cell_type": "code",
   "execution_count": 16,
   "metadata": {},
   "outputs": [
    {
     "name": "stdout",
     "output_type": "stream",
     "text": [
      "0.993307149076\n"
     ]
    }
   ],
   "source": [
    "session = Session()\n",
    "print(session.run(p, {\n",
    "    x: [3, 2]\n",
    "}))"
   ]
  },
  {
   "cell_type": "code",
   "execution_count": 17,
   "metadata": {},
   "outputs": [],
   "source": [
    "class softmax(Operations):\n",
    "    def __init__(self, a):\n",
    "        super().__init__([a])\n",
    "    def compute(self, a_value):\n",
    "        return np.exp(a_value) / np.sum(np.exp(a_value), axis=1)[:, None]"
   ]
  },
  {
   "cell_type": "code",
   "execution_count": 18,
   "metadata": {},
   "outputs": [
    {
     "name": "stdout",
     "output_type": "stream",
     "text": [
      "[[  8.13403143e-01   1.86596857e-01]\n [  9.75148198e-01   2.48518018e-02]\n [  9.96629762e-01   3.37023810e-03]\n [  9.99982394e-01   1.76057369e-05]\n [  9.99996034e-01   3.96629003e-06]\n [  9.98151802e-01   1.84819757e-03]\n [  9.98991680e-01   1.00832041e-03]\n [  9.99995297e-01   4.70293854e-06]\n [  9.99964094e-01   3.59059265e-05]\n [  9.46677247e-01   5.33227534e-02]]\n"
     ]
    }
   ],
   "source": [
    "Graph().as_default()\n",
    "\n",
    "X = Placeholders()\n",
    "W = Variables([\n",
    "    [1, -1],\n",
    "    [1, -1]\n",
    "])\n",
    "b = Variables([0, 0])\n",
    "p = softmax( add(matmul(X, W), b) )\n",
    "session = Session()\n",
    "output_probabilities = session.run(p, {\n",
    "    X: np.concatenate((blue_points, red_points))\n",
    "})\n",
    "print(output_probabilities[:10])"
   ]
  },
  {
   "cell_type": "code",
   "execution_count": null,
   "metadata": {},
   "outputs": [
    {
     "data": {
      "text/plain": [
       "array([3, 6])"
      ]
     },
     "execution_count": 22,
     "metadata": {},
     "output_type": "execute_result"
    }
   ],
   "source": [
    ""
   ]
  }
 ],
 "metadata": {
  "kernelspec": {
   "display_name": "Python 2",
   "language": "python",
   "name": "python2"
  },
  "language_info": {
   "codemirror_mode": {
    "name": "ipython",
    "version": 2
   },
   "file_extension": ".py",
   "mimetype": "text/x-python",
   "name": "python",
   "nbconvert_exporter": "python",
   "pygments_lexer": "ipython2",
   "version": "2.7.6"
  }
 },
 "nbformat": 4,
 "nbformat_minor": 0
}
